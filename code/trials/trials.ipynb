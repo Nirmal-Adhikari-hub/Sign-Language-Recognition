{
 "cells": [
  {
   "cell_type": "code",
   "execution_count": 1,
   "metadata": {},
   "outputs": [],
   "source": [
    "import numpy as np"
   ]
  },
  {
   "cell_type": "code",
   "execution_count": 2,
   "metadata": {},
   "outputs": [],
   "source": [
    "def AND(x,y):\n",
    "    return 0 if np.sum(np.array([x,y]) * np.array([0.5, 0.5])) - 0.7 <= 0 else 1 "
   ]
  },
  {
   "cell_type": "code",
   "execution_count": 3,
   "metadata": {},
   "outputs": [
    {
     "data": {
      "text/plain": [
       "(0, 0, 0, 1)"
      ]
     },
     "execution_count": 3,
     "metadata": {},
     "output_type": "execute_result"
    }
   ],
   "source": [
    "AND(0,0), AND(0,1), AND(1,0), AND(1,1)"
   ]
  },
  {
   "cell_type": "code",
   "execution_count": 8,
   "metadata": {},
   "outputs": [
    {
     "data": {
      "text/plain": [
       "3.5"
      ]
     },
     "execution_count": 8,
     "metadata": {},
     "output_type": "execute_result"
    }
   ],
   "source": [
    "x = np.array([3,4])\n",
    "y = np.array([0.5, 0.5])\n",
    "np.transpose(x) @ y"
   ]
  },
  {
   "cell_type": "code",
   "execution_count": 9,
   "metadata": {},
   "outputs": [
    {
     "data": {
      "text/plain": [
       "'Only the linear combination can be expressed by the perceptron but fo the non-linear cases, the perceptron fails here!!!!'"
      ]
     },
     "execution_count": 9,
     "metadata": {},
     "output_type": "execute_result"
    }
   ],
   "source": [
    "\"\"\"Only the linear combination can be expressed by the perceptron but fo the non-linear cases, the perceptron fails here!!!!\"\"\""
   ]
  },
  {
   "cell_type": "code",
   "execution_count": 10,
   "metadata": {},
   "outputs": [],
   "source": [
    "def sigmoid(x):\n",
    "    return 1 / (1 + np.exp(-x))"
   ]
  },
  {
   "cell_type": "code",
   "execution_count": 11,
   "metadata": {},
   "outputs": [],
   "source": [
    "x = np.arange(-10, 10, 0.1)\n",
    "y = sigmoid(x)\n"
   ]
  },
  {
   "cell_type": "code",
   "execution_count": 12,
   "metadata": {},
   "outputs": [],
   "source": [
    "import matplotlib.pyplot as plt"
   ]
  },
  {
   "cell_type": "code",
   "execution_count": 13,
   "metadata": {},
   "outputs": [
    {
     "data": {
      "image/png": "[encoded data removed]",
      "text/plain": [
       "<Figure size 640x480 with 1 Axes>"
      ]
     },
     "metadata": {},
     "output_type": "display_data"
    }
   ],
   "source": [
    "plt.plot(y)\n",
    "plt.show()"
   ]
  },
  {
   "cell_type": "code",
   "execution_count": 14,
   "metadata": {},
   "outputs": [],
   "source": [
    "def init_network():\n",
    "    network = {}\n",
    "    network['W1'] = np.array([[0.1, 0.3, 0.5], [0.2, 0.4, 0.6]])\n",
    "    network['b1'] = np.array([0.1, 0.2, 0.3])\n",
    "    network['W2'] = np.array([[0.1, 0.4], [0.2, 0.5], [0.3, 0.6]])\n",
    "    network['b2'] = np.array([0.1, 0.2])\n",
    "    network['W3'] = np.array([[0.1, 0.3], [0.2, 0.4]])\n",
    "    network['b3'] = np.array([0.1, 0.2])\n",
    "    return network"
   ]
  },
  {
   "cell_type": "code",
   "execution_count": 23,
   "metadata": {},
   "outputs": [],
   "source": [
    "def forward(network, x):\n",
    "    W1, W2, W3 = network['W1'], network['W2'], network['W3']\n",
    "    b1, b2, b3 = network['b1'], network['b2'], network['b3']\n",
    "    a1 = np.dot(x, W1) + b1\n",
    "    z1 = sigmoid(a1)\n",
    "    a2 = np.dot(z1, W2) + b2\n",
    "    z2 = sigmoid(a2)\n",
    "    a3 = np.dot(z2, W3) + b3\n",
    "    y = a3\n",
    "    return y"
   ]
  },
  {
   "cell_type": "code",
   "execution_count": 24,
   "metadata": {},
   "outputs": [
    {
     "name": "stdout",
     "output_type": "stream",
     "text": [
      "[0.31682708 0.69627909]\n"
     ]
    }
   ],
   "source": [
    "network = init_network()\n",
    "x = np.array([1.0, 0.5])\n",
    "y = forward(network, x)\n",
    "print(y) # sigmoid, identity_function함수는 앞서 정의됨"
   ]
  },
  {
   "cell_type": "code",
   "execution_count": 25,
   "metadata": {},
   "outputs": [
    {
     "name": "stdout",
     "output_type": "stream",
     "text": [
      "Collecting nltk\n",
      "  Downloading nltk-3.9.1-py3-none-any.whl.metadata (2.9 kB)\n",
      "Requirement already satisfied: click in /home/nirmal/miniconda3/envs/slr/lib/python3.10/site-packages (from nltk) (8.1.7)\n",
      "Collecting joblib (from nltk)\n",
      "  Downloading joblib-1.4.2-py3-none-any.whl.metadata (5.4 kB)\n",
      "Requirement already satisfied: regex>=2021.8.3 in /home/nirmal/miniconda3/envs/slr/lib/python3.10/site-packages (from nltk) (2024.11.6)\n",
      "Requirement already satisfied: tqdm in /home/nirmal/miniconda3/envs/slr/lib/python3.10/site-packages (from nltk) (4.67.0)\n",
      "Downloading nltk-3.9.1-py3-none-any.whl (1.5 MB)\n",
      "\u001b[2K   \u001b[90m━━━━━━━━━━━━━━━━━━━━━━━━━━━━━━━━━━━━━━━━\u001b[0m \u001b[32m1.5/1.5 MB\u001b[0m \u001b[31m16.2 MB/s\u001b[0m eta \u001b[36m0:00:00\u001b[0m\n",
      "\u001b[?25hDownloading joblib-1.4.2-py3-none-any.whl (301 kB)\n",
      "Installing collected packages: joblib, nltk\n",
      "Successfully installed joblib-1.4.2 nltk-3.9.1\n",
      "Note: you may need to restart the kernel to use updated packages.\n"
     ]
    }
   ],
   "source": [
    "pip install nltk"
   ]
  },
  {
   "cell_type": "code",
   "execution_count": 1,
   "metadata": {},
   "outputs": [],
   "source": [
    "from nltk.corpus import wordnet"
   ]
  },
  {
   "cell_type": "code",
   "execution_count": 3,
   "metadata": {},
   "outputs": [
    {
     "ename": "LookupError",
     "evalue": "\n**********************************************************************\n  Resource \u001b[93mwordnet\u001b[0m not found.\n  Please use the NLTK Downloader to obtain the resource:\n\n  \u001b[31m>>> import nltk\n  >>> nltk.download('wordnet')\n  \u001b[0m\n  For more information see: https://www.nltk.org/data.html\n\n  Attempted to load \u001b[93mcorpora/wordnet\u001b[0m\n\n  Searched in:\n    - '/home/nirmal/nltk_data'\n    - '/home/nirmal/miniconda3/envs/slr/nltk_data'\n    - '/home/nirmal/miniconda3/envs/slr/share/nltk_data'\n    - '/home/nirmal/miniconda3/envs/slr/lib/nltk_data'\n    - '/usr/share/nltk_data'\n    - '/usr/local/share/nltk_data'\n    - '/usr/lib/nltk_data'\n    - '/usr/local/lib/nltk_data'\n**********************************************************************\n",
     "output_type": "error",
     "traceback": [
      "\u001b[0;31m---------------------------------------------------------------------------\u001b[0m",
      "\u001b[0;31mLookupError\u001b[0m                               Traceback (most recent call last)",
      "File \u001b[0;32m~/miniconda3/envs/slr/lib/python3.10/site-packages/nltk/corpus/util.py:84\u001b[0m, in \u001b[0;36mLazyCorpusLoader.__load\u001b[0;34m(self)\u001b[0m\n\u001b[1;32m     83\u001b[0m \u001b[38;5;28;01mtry\u001b[39;00m:\n\u001b[0;32m---> 84\u001b[0m     root \u001b[38;5;241m=\u001b[39m \u001b[43mnltk\u001b[49m\u001b[38;5;241;43m.\u001b[39;49m\u001b[43mdata\u001b[49m\u001b[38;5;241;43m.\u001b[39;49m\u001b[43mfind\u001b[49m\u001b[43m(\u001b[49m\u001b[38;5;124;43mf\u001b[39;49m\u001b[38;5;124;43m\"\u001b[39;49m\u001b[38;5;132;43;01m{\u001b[39;49;00m\u001b[38;5;28;43mself\u001b[39;49m\u001b[38;5;241;43m.\u001b[39;49m\u001b[43msubdir\u001b[49m\u001b[38;5;132;43;01m}\u001b[39;49;00m\u001b[38;5;124;43m/\u001b[39;49m\u001b[38;5;132;43;01m{\u001b[39;49;00m\u001b[43mzip_name\u001b[49m\u001b[38;5;132;43;01m}\u001b[39;49;00m\u001b[38;5;124;43m\"\u001b[39;49m\u001b[43m)\u001b[49m\n\u001b[1;32m     85\u001b[0m \u001b[38;5;28;01mexcept\u001b[39;00m \u001b[38;5;167;01mLookupError\u001b[39;00m:\n",
      "File \u001b[0;32m~/miniconda3/envs/slr/lib/python3.10/site-packages/nltk/data.py:579\u001b[0m, in \u001b[0;36mfind\u001b[0;34m(resource_name, paths)\u001b[0m\n\u001b[1;32m    578\u001b[0m resource_not_found \u001b[38;5;241m=\u001b[39m \u001b[38;5;124mf\u001b[39m\u001b[38;5;124m\"\u001b[39m\u001b[38;5;130;01m\\n\u001b[39;00m\u001b[38;5;132;01m{\u001b[39;00msep\u001b[38;5;132;01m}\u001b[39;00m\u001b[38;5;130;01m\\n\u001b[39;00m\u001b[38;5;132;01m{\u001b[39;00mmsg\u001b[38;5;132;01m}\u001b[39;00m\u001b[38;5;130;01m\\n\u001b[39;00m\u001b[38;5;132;01m{\u001b[39;00msep\u001b[38;5;132;01m}\u001b[39;00m\u001b[38;5;130;01m\\n\u001b[39;00m\u001b[38;5;124m\"\u001b[39m\n\u001b[0;32m--> 579\u001b[0m \u001b[38;5;28;01mraise\u001b[39;00m \u001b[38;5;167;01mLookupError\u001b[39;00m(resource_not_found)\n",
      "\u001b[0;31mLookupError\u001b[0m: \n**********************************************************************\n  Resource \u001b[93mwordnet\u001b[0m not found.\n  Please use the NLTK Downloader to obtain the resource:\n\n  \u001b[31m>>> import nltk\n  >>> nltk.download('wordnet')\n  \u001b[0m\n  For more information see: https://www.nltk.org/data.html\n\n  Attempted to load \u001b[93mcorpora/wordnet.zip/wordnet/\u001b[0m\n\n  Searched in:\n    - '/home/nirmal/nltk_data'\n    - '/home/nirmal/miniconda3/envs/slr/nltk_data'\n    - '/home/nirmal/miniconda3/envs/slr/share/nltk_data'\n    - '/home/nirmal/miniconda3/envs/slr/lib/nltk_data'\n    - '/usr/share/nltk_data'\n    - '/usr/local/share/nltk_data'\n    - '/usr/lib/nltk_data'\n    - '/usr/local/lib/nltk_data'\n**********************************************************************\n",
      "\nDuring handling of the above exception, another exception occurred:\n",
      "\u001b[0;31mLookupError\u001b[0m                               Traceback (most recent call last)",
      "Cell \u001b[0;32mIn[3], line 1\u001b[0m\n\u001b[0;32m----> 1\u001b[0m \u001b[43mwordnet\u001b[49m\u001b[38;5;241;43m.\u001b[39;49m\u001b[43msynsets\u001b[49m(\u001b[38;5;124m'\u001b[39m\u001b[38;5;124mcar\u001b[39m\u001b[38;5;124m'\u001b[39m)\n",
      "File \u001b[0;32m~/miniconda3/envs/slr/lib/python3.10/site-packages/nltk/corpus/util.py:120\u001b[0m, in \u001b[0;36mLazyCorpusLoader.__getattr__\u001b[0;34m(self, attr)\u001b[0m\n\u001b[1;32m    117\u001b[0m \u001b[38;5;28;01mif\u001b[39;00m attr \u001b[38;5;241m==\u001b[39m \u001b[38;5;124m\"\u001b[39m\u001b[38;5;124m__bases__\u001b[39m\u001b[38;5;124m\"\u001b[39m:\n\u001b[1;32m    118\u001b[0m     \u001b[38;5;28;01mraise\u001b[39;00m \u001b[38;5;167;01mAttributeError\u001b[39;00m(\u001b[38;5;124m\"\u001b[39m\u001b[38;5;124mLazyCorpusLoader object has no attribute \u001b[39m\u001b[38;5;124m'\u001b[39m\u001b[38;5;124m__bases__\u001b[39m\u001b[38;5;124m'\u001b[39m\u001b[38;5;124m\"\u001b[39m)\n\u001b[0;32m--> 120\u001b[0m \u001b[38;5;28;43mself\u001b[39;49m\u001b[38;5;241;43m.\u001b[39;49m\u001b[43m__load\u001b[49m\u001b[43m(\u001b[49m\u001b[43m)\u001b[49m\n\u001b[1;32m    121\u001b[0m \u001b[38;5;66;03m# This looks circular, but its not, since __load() changes our\u001b[39;00m\n\u001b[1;32m    122\u001b[0m \u001b[38;5;66;03m# __class__ to something new:\u001b[39;00m\n\u001b[1;32m    123\u001b[0m \u001b[38;5;28;01mreturn\u001b[39;00m \u001b[38;5;28mgetattr\u001b[39m(\u001b[38;5;28mself\u001b[39m, attr)\n",
      "File \u001b[0;32m~/miniconda3/envs/slr/lib/python3.10/site-packages/nltk/corpus/util.py:86\u001b[0m, in \u001b[0;36mLazyCorpusLoader.__load\u001b[0;34m(self)\u001b[0m\n\u001b[1;32m     84\u001b[0m             root \u001b[38;5;241m=\u001b[39m nltk\u001b[38;5;241m.\u001b[39mdata\u001b[38;5;241m.\u001b[39mfind(\u001b[38;5;124mf\u001b[39m\u001b[38;5;124m\"\u001b[39m\u001b[38;5;132;01m{\u001b[39;00m\u001b[38;5;28mself\u001b[39m\u001b[38;5;241m.\u001b[39msubdir\u001b[38;5;132;01m}\u001b[39;00m\u001b[38;5;124m/\u001b[39m\u001b[38;5;132;01m{\u001b[39;00mzip_name\u001b[38;5;132;01m}\u001b[39;00m\u001b[38;5;124m\"\u001b[39m)\n\u001b[1;32m     85\u001b[0m         \u001b[38;5;28;01mexcept\u001b[39;00m \u001b[38;5;167;01mLookupError\u001b[39;00m:\n\u001b[0;32m---> 86\u001b[0m             \u001b[38;5;28;01mraise\u001b[39;00m e\n\u001b[1;32m     88\u001b[0m \u001b[38;5;66;03m# Load the corpus.\u001b[39;00m\n\u001b[1;32m     89\u001b[0m corpus \u001b[38;5;241m=\u001b[39m \u001b[38;5;28mself\u001b[39m\u001b[38;5;241m.\u001b[39m__reader_cls(root, \u001b[38;5;241m*\u001b[39m\u001b[38;5;28mself\u001b[39m\u001b[38;5;241m.\u001b[39m__args, \u001b[38;5;241m*\u001b[39m\u001b[38;5;241m*\u001b[39m\u001b[38;5;28mself\u001b[39m\u001b[38;5;241m.\u001b[39m__kwargs)\n",
      "File \u001b[0;32m~/miniconda3/envs/slr/lib/python3.10/site-packages/nltk/corpus/util.py:81\u001b[0m, in \u001b[0;36mLazyCorpusLoader.__load\u001b[0;34m(self)\u001b[0m\n\u001b[1;32m     79\u001b[0m \u001b[38;5;28;01melse\u001b[39;00m:\n\u001b[1;32m     80\u001b[0m     \u001b[38;5;28;01mtry\u001b[39;00m:\n\u001b[0;32m---> 81\u001b[0m         root \u001b[38;5;241m=\u001b[39m \u001b[43mnltk\u001b[49m\u001b[38;5;241;43m.\u001b[39;49m\u001b[43mdata\u001b[49m\u001b[38;5;241;43m.\u001b[39;49m\u001b[43mfind\u001b[49m\u001b[43m(\u001b[49m\u001b[38;5;124;43mf\u001b[39;49m\u001b[38;5;124;43m\"\u001b[39;49m\u001b[38;5;132;43;01m{\u001b[39;49;00m\u001b[38;5;28;43mself\u001b[39;49m\u001b[38;5;241;43m.\u001b[39;49m\u001b[43msubdir\u001b[49m\u001b[38;5;132;43;01m}\u001b[39;49;00m\u001b[38;5;124;43m/\u001b[39;49m\u001b[38;5;132;43;01m{\u001b[39;49;00m\u001b[38;5;28;43mself\u001b[39;49m\u001b[38;5;241;43m.\u001b[39;49m\u001b[43m__name\u001b[49m\u001b[38;5;132;43;01m}\u001b[39;49;00m\u001b[38;5;124;43m\"\u001b[39;49m\u001b[43m)\u001b[49m\n\u001b[1;32m     82\u001b[0m     \u001b[38;5;28;01mexcept\u001b[39;00m \u001b[38;5;167;01mLookupError\u001b[39;00m \u001b[38;5;28;01mas\u001b[39;00m e:\n\u001b[1;32m     83\u001b[0m         \u001b[38;5;28;01mtry\u001b[39;00m:\n",
      "File \u001b[0;32m~/miniconda3/envs/slr/lib/python3.10/site-packages/nltk/data.py:579\u001b[0m, in \u001b[0;36mfind\u001b[0;34m(resource_name, paths)\u001b[0m\n\u001b[1;32m    577\u001b[0m sep \u001b[38;5;241m=\u001b[39m \u001b[38;5;124m\"\u001b[39m\u001b[38;5;124m*\u001b[39m\u001b[38;5;124m\"\u001b[39m \u001b[38;5;241m*\u001b[39m \u001b[38;5;241m70\u001b[39m\n\u001b[1;32m    578\u001b[0m resource_not_found \u001b[38;5;241m=\u001b[39m \u001b[38;5;124mf\u001b[39m\u001b[38;5;124m\"\u001b[39m\u001b[38;5;130;01m\\n\u001b[39;00m\u001b[38;5;132;01m{\u001b[39;00msep\u001b[38;5;132;01m}\u001b[39;00m\u001b[38;5;130;01m\\n\u001b[39;00m\u001b[38;5;132;01m{\u001b[39;00mmsg\u001b[38;5;132;01m}\u001b[39;00m\u001b[38;5;130;01m\\n\u001b[39;00m\u001b[38;5;132;01m{\u001b[39;00msep\u001b[38;5;132;01m}\u001b[39;00m\u001b[38;5;130;01m\\n\u001b[39;00m\u001b[38;5;124m\"\u001b[39m\n\u001b[0;32m--> 579\u001b[0m \u001b[38;5;28;01mraise\u001b[39;00m \u001b[38;5;167;01mLookupError\u001b[39;00m(resource_not_found)\n",
      "\u001b[0;31mLookupError\u001b[0m: \n**********************************************************************\n  Resource \u001b[93mwordnet\u001b[0m not found.\n  Please use the NLTK Downloader to obtain the resource:\n\n  \u001b[31m>>> import nltk\n  >>> nltk.download('wordnet')\n  \u001b[0m\n  For more information see: https://www.nltk.org/data.html\n\n  Attempted to load \u001b[93mcorpora/wordnet\u001b[0m\n\n  Searched in:\n    - '/home/nirmal/nltk_data'\n    - '/home/nirmal/miniconda3/envs/slr/nltk_data'\n    - '/home/nirmal/miniconda3/envs/slr/share/nltk_data'\n    - '/home/nirmal/miniconda3/envs/slr/lib/nltk_data'\n    - '/usr/share/nltk_data'\n    - '/usr/local/share/nltk_data'\n    - '/usr/lib/nltk_data'\n    - '/usr/local/lib/nltk_data'\n**********************************************************************\n"
     ]
    }
   ],
   "source": [
    "wordnet.synsets('car')"
   ]
  },
  {
   "cell_type": "code",
   "execution_count": 4,
   "metadata": {},
   "outputs": [
    {
     "name": "stderr",
     "output_type": "stream",
     "text": [
      "[nltk_data] Downloading package wordnet to /home/nirmal/nltk_data...\n"
     ]
    },
    {
     "data": {
      "text/plain": [
       "True"
      ]
     },
     "execution_count": 4,
     "metadata": {},
     "output_type": "execute_result"
    }
   ],
   "source": [
    "import nltk\n",
    "nltk.download('wordnet')"
   ]
  },
  {
   "cell_type": "code",
   "execution_count": 5,
   "metadata": {},
   "outputs": [
    {
     "name": "stderr",
     "output_type": "stream",
     "text": [
      "[nltk_data] Downloading package omw-1.4 to /home/nirmal/nltk_data...\n"
     ]
    },
    {
     "data": {
      "text/plain": [
       "True"
      ]
     },
     "execution_count": 5,
     "metadata": {},
     "output_type": "execute_result"
    }
   ],
   "source": [
    "nltk.download('omw-1.4')  # Optional, enhances WordNet"
   ]
  },
  {
   "cell_type": "code",
   "execution_count": 7,
   "metadata": {},
   "outputs": [],
   "source": [
    "from nltk.corpus import wordnet\n",
    "synsets = wordnet.synsets('car')"
   ]
  },
  {
   "cell_type": "code",
   "execution_count": 8,
   "metadata": {},
   "outputs": [
    {
     "data": {
      "text/plain": [
       "[Synset('car.n.01'),\n",
       " Synset('car.n.02'),\n",
       " Synset('car.n.03'),\n",
       " Synset('car.n.04'),\n",
       " Synset('cable_car.n.01')]"
      ]
     },
     "execution_count": 8,
     "metadata": {},
     "output_type": "execute_result"
    }
   ],
   "source": [
    "synsets"
   ]
  },
  {
   "cell_type": "code",
   "execution_count": 9,
   "metadata": {},
   "outputs": [
    {
     "data": {
      "text/plain": [
       "'a motor vehicle with four wheels; usually propelled by an internal combustion engine'"
      ]
     },
     "execution_count": 9,
     "metadata": {},
     "output_type": "execute_result"
    }
   ],
   "source": [
    "wordnet.synset('car.n.01').definition()"
   ]
  },
  {
   "cell_type": "code",
   "execution_count": 13,
   "metadata": {},
   "outputs": [
    {
     "ename": "ValueError",
     "evalue": "not enough values to unpack (expected 3, got 1)",
     "output_type": "error",
     "traceback": [
      "\u001b[0;31m---------------------------------------------------------------------------\u001b[0m",
      "\u001b[0;31mValueError\u001b[0m                                Traceback (most recent call last)",
      "Cell \u001b[0;32mIn[13], line 1\u001b[0m\n\u001b[0;32m----> 1\u001b[0m \u001b[43mwordnet\u001b[49m\u001b[38;5;241;43m.\u001b[39;49m\u001b[43msynset\u001b[49m\u001b[43m(\u001b[49m\u001b[38;5;124;43m'\u001b[39;49m\u001b[38;5;124;43mcar\u001b[39;49m\u001b[38;5;124;43m'\u001b[39;49m\u001b[43m)\u001b[49m\u001b[38;5;241m.\u001b[39mpath_similarity(wordnet\u001b[38;5;241m.\u001b[39msynset(\u001b[38;5;124m'\u001b[39m\u001b[38;5;124mdog\u001b[39m\u001b[38;5;124m'\u001b[39m))\n",
      "File \u001b[0;32m~/miniconda3/envs/slr/lib/python3.10/site-packages/nltk/corpus/reader/wordnet.py:1509\u001b[0m, in \u001b[0;36mWordNetCorpusReader.synset\u001b[0;34m(self, name)\u001b[0m\n\u001b[1;32m   1507\u001b[0m \u001b[38;5;28;01mdef\u001b[39;00m \u001b[38;5;21msynset\u001b[39m(\u001b[38;5;28mself\u001b[39m, name):\n\u001b[1;32m   1508\u001b[0m     \u001b[38;5;66;03m# split name into lemma, part of speech and synset number\u001b[39;00m\n\u001b[0;32m-> 1509\u001b[0m     lemma, pos, synset_index_str \u001b[38;5;241m=\u001b[39m name\u001b[38;5;241m.\u001b[39mlower()\u001b[38;5;241m.\u001b[39mrsplit(\u001b[38;5;124m\"\u001b[39m\u001b[38;5;124m.\u001b[39m\u001b[38;5;124m\"\u001b[39m, \u001b[38;5;241m2\u001b[39m)\n\u001b[1;32m   1510\u001b[0m     synset_index \u001b[38;5;241m=\u001b[39m \u001b[38;5;28mint\u001b[39m(synset_index_str) \u001b[38;5;241m-\u001b[39m \u001b[38;5;241m1\u001b[39m\n\u001b[1;32m   1512\u001b[0m     \u001b[38;5;66;03m# get the offset for this synset\u001b[39;00m\n",
      "\u001b[0;31mValueError\u001b[0m: not enough values to unpack (expected 3, got 1)"
     ]
    }
   ],
   "source": [
    "wordnet.synset('car').path_similarity(wordnet.synset('dog'))"
   ]
  },
  {
   "cell_type": "code",
   "execution_count": 1,
   "metadata": {},
   "outputs": [
    {
     "name": "stdout",
     "output_type": "stream",
     "text": [
      "Collecting graphviz\n",
      "  Downloading graphviz-0.20.3-py3-none-any.whl.metadata (12 kB)\n",
      "Downloading graphviz-0.20.3-py3-none-any.whl (47 kB)\n",
      "Installing collected packages: graphviz\n",
      "Successfully installed graphviz-0.20.3\n",
      "Note: you may need to restart the kernel to use updated packages.\n"
     ]
    }
   ],
   "source": [
    "pip install graphviz"
   ]
  },
  {
   "cell_type": "code",
   "execution_count": 1,
   "metadata": {},
   "outputs": [
    {
     "data": {
      "text/plain": [
       "'tr.png'"
      ]
     },
     "execution_count": 1,
     "metadata": {},
     "output_type": "execute_result"
    }
   ],
   "source": [
    "from graphviz import Digraph\n",
    "\n",
    "# Create a directed graph\n",
    "dot = Digraph(format='png', engine='dot')\n",
    "dot.attr(rankdir='LR', size='10')\n",
    "\n",
    "# Add top-level modules\n",
    "dot.node('RecognitionNetwork', 'RecognitionNetwork', shape='box', style='filled', fillcolor='lightblue')\n",
    "dot.node('S3D_backbone', 'S3D_backbone', shape='box', style='filled', fillcolor='lightgreen')\n",
    "dot.node('VisualHead', 'VisualHead', shape='box', style='filled', fillcolor='lightyellow')\n",
    "dot.node('CTCLoss', 'CTCLoss', shape='box', style='filled', fillcolor='lightcoral')\n",
    "\n",
    "# Add submodules in S3D_backbone\n",
    "dot.node('SepConv3d', 'SepConv3d', shape='ellipse')\n",
    "dot.node('MaxPool3d', 'MaxPool3d', shape='ellipse')\n",
    "dot.node('Mixed_Layers', 'Mixed Layers\\n(Mixed_3b, Mixed_4b, etc.)', shape='ellipse')\n",
    "\n",
    "# Add submodules in VisualHead\n",
    "dot.node('fc1', 'fc1 (Fully Connected)', shape='ellipse')\n",
    "dot.node('PositionalEncoding', 'PositionalEncoding', shape='ellipse')\n",
    "dot.node('PositionwiseFeedForward', 'PositionwiseFeedForward', shape='ellipse')\n",
    "dot.node('gloss_output_layer', 'gloss_output_layer', shape='ellipse')\n",
    "\n",
    "# Add connections for RecognitionNetwork\n",
    "dot.edge('RecognitionNetwork', 'S3D_backbone')\n",
    "dot.edge('RecognitionNetwork', 'VisualHead')\n",
    "dot.edge('RecognitionNetwork', 'CTCLoss')\n",
    "\n",
    "# Add connections for S3D_backbone\n",
    "dot.edge('S3D_backbone', 'SepConv3d')\n",
    "dot.edge('S3D_backbone', 'MaxPool3d')\n",
    "dot.edge('S3D_backbone', 'Mixed_Layers')\n",
    "\n",
    "# Add connections for VisualHead\n",
    "dot.edge('VisualHead', 'fc1')\n",
    "dot.edge('VisualHead', 'PositionalEncoding')\n",
    "dot.edge('VisualHead', 'PositionwiseFeedForward')\n",
    "dot.edge('VisualHead', 'gloss_output_layer')\n",
    "\n",
    "# Render the graph and display the image\n",
    "output_path = 'tr'\n",
    "dot.render(output_path, format='png', cleanup=True)\n",
    "\n",
    "output_path + '.png'\n"
   ]
  },
  {
   "cell_type": "code",
   "execution_count": 4,
   "metadata": {},
   "outputs": [
    {
     "name": "stdout",
     "output_type": "stream",
     "text": [
      "Graph generated and saved to new.png\n"
     ]
    }
   ],
   "source": [
    "from graphviz import Digraph\n",
    "\n",
    "# Initialize the graph\n",
    "dot = Digraph(format='png', engine='dot')\n",
    "dot.attr(rankdir='TB', size='10')  # TB: Top-to-bottom hierarchy\n",
    "\n",
    "# Root node\n",
    "dot.node('SignLanguageModel', 'SignLanguageModel', shape='box', style='filled', fillcolor='lightblue')\n",
    "\n",
    "# Recognition Network\n",
    "dot.node('RecognitionNetwork', 'RecognitionNetwork', shape='box', style='filled', fillcolor='lightgreen')\n",
    "dot.edge('SignLanguageModel', 'RecognitionNetwork')\n",
    "\n",
    "# S3D Backbone\n",
    "dot.node('S3D_backbone', 'S3D_backbone\\n(Input: Video, Output: Features)', shape='box', style='filled', fillcolor='lightyellow')\n",
    "dot.edge('RecognitionNetwork', 'S3D_backbone')\n",
    "\n",
    "# Base (Sequential)\n",
    "dot.node('base', 'base (Sequential)', shape='box', style='dashed')\n",
    "dot.edge('S3D_backbone', 'base')\n",
    "\n",
    "# Individual layers in Sequential\n",
    "dot.node('SepConv3d_1', 'SepConv3d\\nKernel: (1,7,7)\\nStride: (1,2,2)\\nPadding: (0,3,3)', shape='ellipse', style='filled', fillcolor='lightgrey')\n",
    "dot.node('MaxPool3d_1', 'MaxPool3d\\nKernel: (1,3,3)\\nStride: (1,2,2)\\nPadding: (0,1,1)', shape='ellipse', style='filled', fillcolor='lightgrey')\n",
    "dot.node('BasicConv3d', 'BasicConv3d\\nKernel: (1,1,1)\\nStride: (1,1,1)', shape='ellipse', style='filled', fillcolor='lightgrey')\n",
    "dot.node('SepConv3d_2', 'SepConv3d\\nKernel: (1,3,3)\\nStride: (1,1,1)\\nPadding: (0,1,1)', shape='ellipse', style='filled', fillcolor='lightgrey')\n",
    "dot.node('MaxPool3d_2', 'MaxPool3d\\nKernel: (1,3,3)\\nStride: (1,2,2)\\nPadding: (0,1,1)', shape='ellipse', style='filled', fillcolor='lightgrey')\n",
    "\n",
    "# Mixed layers\n",
    "dot.node('Mixed_3b', 'Mixed_3b\\n(Multi-branch layer)', shape='ellipse', style='filled', fillcolor='lightgreen')\n",
    "dot.node('Mixed_3c', 'Mixed_3c\\n(Multi-branch layer)', shape='ellipse', style='filled', fillcolor='lightgreen')\n",
    "dot.node('Mixed_4b', 'Mixed_4b\\n(Multi-branch layer)', shape='ellipse', style='filled', fillcolor='lightgreen')\n",
    "dot.node('Mixed_4c', 'Mixed_4c\\n(Multi-branch layer)', shape='ellipse', style='filled', fillcolor='lightgreen')\n",
    "dot.node('Mixed_4d', 'Mixed_4d\\n(Multi-branch layer)', shape='ellipse', style='filled', fillcolor='lightgreen')\n",
    "dot.node('Mixed_4e', 'Mixed_4e\\n(Multi-branch layer)', shape='ellipse', style='filled', fillcolor='lightgreen')\n",
    "dot.node('Mixed_4f', 'Mixed_4f\\n(Multi-branch layer)', shape='ellipse', style='filled', fillcolor='lightgreen')\n",
    "\n",
    "# Connecting layers inside base (Sequential)\n",
    "dot.edge('base', 'SepConv3d_1')\n",
    "dot.edge('SepConv3d_1', 'MaxPool3d_1')\n",
    "dot.edge('MaxPool3d_1', 'BasicConv3d')\n",
    "dot.edge('BasicConv3d', 'SepConv3d_2')\n",
    "dot.edge('SepConv3d_2', 'MaxPool3d_2')\n",
    "dot.edge('MaxPool3d_2', 'Mixed_3b')\n",
    "dot.edge('Mixed_3b', 'Mixed_3c')\n",
    "dot.edge('Mixed_3c', 'Mixed_4b')\n",
    "dot.edge('Mixed_4b', 'Mixed_4c')\n",
    "dot.edge('Mixed_4c', 'Mixed_4d')\n",
    "dot.edge('Mixed_4d', 'Mixed_4e')\n",
    "dot.edge('Mixed_4e', 'Mixed_4f')\n",
    "\n",
    "# Save and render the graph\n",
    "output_path = 'new'\n",
    "dot.render(output_path, format='png', cleanup=True)\n",
    "\n",
    "print(f\"Graph generated and saved to {output_path}.png\")\n"
   ]
  },
  {
   "cell_type": "code",
   "execution_count": 5,
   "metadata": {},
   "outputs": [
    {
     "name": "stdout",
     "output_type": "stream",
     "text": [
      "Collecting matplotlib_venn\n",
      "  Downloading matplotlib-venn-1.1.1.tar.gz (40 kB)\n",
      "  Installing build dependencies ... \u001b[?25ldone\n",
      "\u001b[?25h  Getting requirements to build wheel ... \u001b[?25ldone\n",
      "\u001b[?25h  Preparing metadata (pyproject.toml) ... \u001b[?25ldone\n",
      "\u001b[?25hRequirement already satisfied: matplotlib in /home/nirmal/miniconda3/envs/slr/lib/python3.10/site-packages (from matplotlib_venn) (3.9.2)\n",
      "Requirement already satisfied: numpy in /home/nirmal/miniconda3/envs/slr/lib/python3.10/site-packages (from matplotlib_venn) (1.26.3)\n",
      "Collecting scipy (from matplotlib_venn)\n",
      "  Downloading scipy-1.14.1-cp310-cp310-manylinux_2_17_x86_64.manylinux2014_x86_64.whl.metadata (60 kB)\n",
      "Requirement already satisfied: contourpy>=1.0.1 in /home/nirmal/miniconda3/envs/slr/lib/python3.10/site-packages (from matplotlib->matplotlib_venn) (1.3.1)\n",
      "Requirement already satisfied: cycler>=0.10 in /home/nirmal/miniconda3/envs/slr/lib/python3.10/site-packages (from matplotlib->matplotlib_venn) (0.12.1)\n",
      "Requirement already satisfied: fonttools>=4.22.0 in /home/nirmal/miniconda3/envs/slr/lib/python3.10/site-packages (from matplotlib->matplotlib_venn) (4.55.0)\n",
      "Requirement already satisfied: kiwisolver>=1.3.1 in /home/nirmal/miniconda3/envs/slr/lib/python3.10/site-packages (from matplotlib->matplotlib_venn) (1.4.7)\n",
      "Requirement already satisfied: packaging>=20.0 in /home/nirmal/miniconda3/envs/slr/lib/python3.10/site-packages (from matplotlib->matplotlib_venn) (24.2)\n",
      "Requirement already satisfied: pillow>=8 in /home/nirmal/miniconda3/envs/slr/lib/python3.10/site-packages (from matplotlib->matplotlib_venn) (10.2.0)\n",
      "Requirement already satisfied: pyparsing>=2.3.1 in /home/nirmal/miniconda3/envs/slr/lib/python3.10/site-packages (from matplotlib->matplotlib_venn) (3.2.0)\n",
      "Requirement already satisfied: python-dateutil>=2.7 in /home/nirmal/miniconda3/envs/slr/lib/python3.10/site-packages (from matplotlib->matplotlib_venn) (2.9.0.post0)\n",
      "Requirement already satisfied: six>=1.5 in /home/nirmal/miniconda3/envs/slr/lib/python3.10/site-packages (from python-dateutil>=2.7->matplotlib->matplotlib_venn) (1.16.0)\n",
      "Downloading scipy-1.14.1-cp310-cp310-manylinux_2_17_x86_64.manylinux2014_x86_64.whl (41.2 MB)\n",
      "\u001b[2K   \u001b[90m━━━━━━━━━━━━━━━━━━━━━━━━━━━━━━━━━━━━━━━━\u001b[0m \u001b[32m41.2/41.2 MB\u001b[0m \u001b[31m5.8 MB/s\u001b[0m eta \u001b[36m0:00:00\u001b[0m00:01\u001b[0m00:01\u001b[0m\n",
      "\u001b[?25hBuilding wheels for collected packages: matplotlib_venn\n",
      "  Building wheel for matplotlib_venn (pyproject.toml) ... \u001b[?25ldone\n",
      "\u001b[?25h  Created wheel for matplotlib_venn: filename=matplotlib_venn-1.1.1-py3-none-any.whl size=45289 sha256=0aeaf7a534cd66795867e02222db75c979561806da7beec68b1c8e4ed0cfe4db\n",
      "  Stored in directory: /home/nirmal/.cache/pip/wheels/3c/b6/e2/5fadaf4aa63fac5b079d4f633e9d96b29a67ee4fae816806f3\n",
      "Successfully built matplotlib_venn\n",
      "Installing collected packages: scipy, matplotlib_venn\n",
      "Successfully installed matplotlib_venn-1.1.1 scipy-1.14.1\n",
      "Note: you may need to restart the kernel to use updated packages.\n"
     ]
    }
   ],
   "source": [
    "pip install matplotlib_venn"
   ]
  },
  {
   "cell_type": "code",
   "execution_count": 34,
   "metadata": {},
   "outputs": [
    {
     "data": {
      "image/png": "[encoded data removed]",
      "text/plain": [
       "<Figure size 1600x1000 with 1 Axes>"
      ]
     },
     "metadata": {},
     "output_type": "display_data"
    },
    {
     "data": {
      "text/plain": [
       "'Bubble_Chart.png'"
      ]
     },
     "execution_count": 34,
     "metadata": {},
     "output_type": "execute_result"
    }
   ],
   "source": [
    "# Final Adjustments for Bubble Chart with Proper Layout and Spacing\n",
    "\n",
    "import matplotlib.pyplot as plt\n",
    "from matplotlib.patches import Circle\n",
    "import numpy as np\n",
    "\n",
    "# Dataset Information\n",
    "image_datasets = {\n",
    "    \"ImageNet-1K\": {\"total\": 1281167, \"classes\": 1000},\n",
    "    \"ImageNet-21K\": {\"total\": 14000000, \"classes\": 21841},\n",
    "}\n",
    "\n",
    "video_datasets = {\n",
    "    \"SSV1\": {\"total\": 110000, \"classes\": 174, \"fps\": 12, \"duration\": \"4 sec\"},\n",
    "    \"SSV2\": {\"total\": 220847, \"classes\": 174, \"fps\": 12, \"duration\": \"4 sec\"},\n",
    "    \"Kinetics-400\": {\"total\": 306245, \"classes\": 400, \"fps\": 25, \"duration\": \"10 sec\"},\n",
    "    \"Kinetics-600\": {\"total\": 495547, \"classes\": 600, \"fps\": 25, \"duration\": \"10 sec\"},\n",
    "    \"Phoenix-2014\": {\"total\": 7096, \"classes\": \"N/A\", \"fps\": 25, \"duration\": \"Varies\", \"Res\": \"210x260\"},\n",
    "    \"Diving48\": {\"total\": 18000, \"classes\": 48, \"fps\": \"Varies\", \"duration\": \"Trimmed\", \"Res\": \"Standardized\"},\n",
    "    \"HowTo100M\": {\"total\": 136000000, \"classes\": 23000, \"fps\": \"Varies\", \"duration\": \"15 years of videos\", \"Res\": \"N/A\"},\n",
    "}\n",
    "\n",
    "# Function to draw a clean bubble with description below\n",
    "def draw_bubble(ax, x, y, dataset, details, radius, color):\n",
    "    # Scale down large bubbles explicitly\n",
    "    scaling_factor = 1\n",
    "    if dataset == \"HowTo100M\":\n",
    "        scaling_factor = 0.25  # Scale down factor for large bubble\n",
    "        radius *= scaling_factor\n",
    "\n",
    "    # Draw bubble\n",
    "    circle = Circle((x, y), radius, edgecolor=\"black\", lw=1.5, facecolor=color, alpha=0.6)\n",
    "    ax.add_patch(circle)\n",
    "\n",
    "    # Add scaling info inside the bubble for large datasets\n",
    "    if dataset == \"HowTo100M\":\n",
    "        ax.text(x, y, f\"Scaled Down:\\n{scaling_factor}x\", fontsize=8, ha=\"center\", va=\"center\", weight=\"bold\", color=\"black\")\n",
    "\n",
    "    # Add dataset description below\n",
    "    label = f\"{dataset}\\nTotal: {details['total']:,}\\nClasses: {details['classes']}\\nRes: {details.get('Res', 'N/A')}\"\n",
    "    if \"fps\" in details:\n",
    "        label += f\"\\nFPS: {details['fps']}\\n Duration: {details['duration']}\"\n",
    "\n",
    "    ax.text(x, y - radius - 0.4, label, fontsize=8, ha=\"center\", va=\"top\", weight=\"bold\")\n",
    "\n",
    "# Initialize Plot\n",
    "fig, ax = plt.subplots(figsize=(16, 10))\n",
    "\n",
    "# Plot Image-Based Datasets (Top Row)\n",
    "x_positions = np.linspace(2, 8, len(image_datasets))  # Spread across the top\n",
    "y_image = 8\n",
    "for i, (dataset, details) in enumerate(image_datasets.items()):\n",
    "    radius = np.sqrt(details[\"total\"]) * 0.0004  # Proportional scaling\n",
    "    draw_bubble(ax, x_positions[i], y_image, dataset, details, radius, color=\"#66c2a5\")\n",
    "\n",
    "# Plot Video-Based Datasets (Bottom Row)\n",
    "x_positions = np.linspace(2, 16, len(video_datasets))  # Full-width spacing for videos\n",
    "y_video = 3\n",
    "for i, (dataset, details) in enumerate(video_datasets.items()):\n",
    "    radius = np.sqrt(details[\"total\"]) * 0.0004  # Proportional scaling\n",
    "    draw_bubble(ax, x_positions[i], y_video, dataset, details, radius, color=\"#fc8d62\")\n",
    "\n",
    "# Add Labels for Sections\n",
    "ax.text(5, 9.5, \"Image-Based Datasets\", fontsize=12, weight=\"bold\", ha=\"center\")\n",
    "ax.text(9, 5, \"Video-Based Datasets\", fontsize=12, weight=\"bold\", ha=\"center\")\n",
    "\n",
    "# Adjust Layout\n",
    "ax.axis(\"equal\")  # Ensure circles look like circles\n",
    "ax.axis(\"off\")    # Hide axes for a clean look\n",
    "\n",
    "# Save and Show\n",
    "output_file = \"Bubble_Chart.png\"\n",
    "plt.savefig(output_file, dpi=300, bbox_inches=\"tight\")\n",
    "plt.show()\n",
    "\n",
    "output_file"
   ]
  },
  {
   "cell_type": "code",
   "execution_count": 1,
   "metadata": {},
   "outputs": [],
   "source": [
    "import numpy as np"
   ]
  },
  {
   "cell_type": "code",
   "execution_count": 2,
   "metadata": {},
   "outputs": [
    {
     "data": {
      "text/plain": [
       "array([0, 1, 2, 3, 4, 5])"
      ]
     },
     "execution_count": 2,
     "metadata": {},
     "output_type": "execute_result"
    }
   ],
   "source": [
    "np.arange(6)"
   ]
  },
  {
   "cell_type": "code",
   "execution_count": 3,
   "metadata": {},
   "outputs": [],
   "source": [
    "x = np.arange(10)"
   ]
  },
  {
   "cell_type": "code",
   "execution_count": 4,
   "metadata": {},
   "outputs": [
    {
     "data": {
      "text/plain": [
       "array([0, 1, 2, 3, 4, 5, 6, 7, 8, 9])"
      ]
     },
     "execution_count": 4,
     "metadata": {},
     "output_type": "execute_result"
    }
   ],
   "source": [
    "x"
   ]
  },
  {
   "cell_type": "code",
   "execution_count": 5,
   "metadata": {},
   "outputs": [
    {
     "data": {
      "text/plain": [
       "array([2, 3, 4, 5, 6, 7])"
      ]
     },
     "execution_count": 5,
     "metadata": {},
     "output_type": "execute_result"
    }
   ],
   "source": [
    "x[2:-2]"
   ]
  },
  {
   "cell_type": "code",
   "execution_count": 6,
   "metadata": {},
   "outputs": [
    {
     "data": {
      "text/plain": [
       "2"
      ]
     },
     "execution_count": 6,
     "metadata": {},
     "output_type": "execute_result"
    }
   ],
   "source": [
    "5//2"
   ]
  },
  {
   "cell_type": "code",
   "execution_count": 9,
   "metadata": {},
   "outputs": [
    {
     "data": {
      "text/plain": [
       "0"
      ]
     },
     "execution_count": 9,
     "metadata": {},
     "output_type": "execute_result"
    }
   ],
   "source": [
    "402%2"
   ]
  },
  {
   "cell_type": "code",
   "execution_count": 19,
   "metadata": {},
   "outputs": [],
   "source": [
    "frame_idx = [5,6,7,8,9]\n",
    "valid_len = 5"
   ]
  },
  {
   "cell_type": "code",
   "execution_count": 20,
   "metadata": {},
   "outputs": [],
   "source": [
    "assert len(frame_idx) == valid_len, (frame_idx, valid_len)"
   ]
  },
  {
   "cell_type": "code",
   "execution_count": 21,
   "metadata": {},
   "outputs": [
    {
     "data": {
      "text/plain": [
       "41"
      ]
     },
     "execution_count": 21,
     "metadata": {},
     "output_type": "execute_result"
    }
   ],
   "source": [
    "np.random.randint(25,50)"
   ]
  },
  {
   "cell_type": "code",
   "execution_count": 28,
   "metadata": {},
   "outputs": [
    {
     "data": {
      "text/plain": [
       "[1, 2, 4, 6, 8, 9]"
      ]
     },
     "execution_count": 28,
     "metadata": {},
     "output_type": "execute_result"
    }
   ],
   "source": [
    "sorted(np.random.permutation(np.arange(10))[:6])"
   ]
  },
  {
   "cell_type": "code",
   "execution_count": 29,
   "metadata": {},
   "outputs": [
    {
     "data": {
      "text/plain": [
       "PosixPath('Nirmal')"
      ]
     },
     "execution_count": 29,
     "metadata": {},
     "output_type": "execute_result"
    }
   ],
   "source": [
    "import pathlib\n",
    "\n",
    "pathlib.Path('Nirmal')"
   ]
  },
  {
   "cell_type": "code",
   "execution_count": 1,
   "metadata": {},
   "outputs": [],
   "source": [
    "import sys\n",
    "import pathlib"
   ]
  },
  {
   "cell_type": "code",
   "execution_count": 2,
   "metadata": {},
   "outputs": [
    {
     "data": {
      "text/plain": [
       "['/home/nirmal/miniconda3/envs/slr/lib/python310.zip',\n",
       " '/home/nirmal/miniconda3/envs/slr/lib/python3.10',\n",
       " '/home/nirmal/miniconda3/envs/slr/lib/python3.10/lib-dynload',\n",
       " '',\n",
       " '/home/nirmal/miniconda3/envs/slr/lib/python3.10/site-packages']"
      ]
     },
     "execution_count": 2,
     "metadata": {},
     "output_type": "execute_result"
    }
   ],
   "source": [
    "sys.path"
   ]
  },
  {
   "cell_type": "code",
   "execution_count": null,
   "metadata": {},
   "outputs": [],
   "source": []
  }
 ],
 "metadata": {
  "kernelspec": {
   "display_name": "slr",
   "language": "python",
   "name": "python3"
  },
  "language_info": {
   "codemirror_mode": {
    "name": "ipython",
    "version": 3
   },
   "file_extension": ".py",
   "mimetype": "text/x-python",
   "name": "python",
   "nbconvert_exporter": "python",
   "pygments_lexer": "ipython3",
   "version": "3.10.16"
  }
 },
 "nbformat": 4,
 "nbformat_minor": 2
}
